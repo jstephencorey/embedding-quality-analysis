{
 "cells": [
  {
   "cell_type": "code",
   "execution_count": 2,
   "metadata": {},
   "outputs": [],
   "source": [
    "import numpy as np\n",
    "import pandas as pd"
   ]
  },
  {
   "cell_type": "code",
   "execution_count": 3,
   "metadata": {},
   "outputs": [],
   "source": [
    "raw_data = \"../data/questions-words.txt\"\n",
    "cleaned_data = \"../data/words_cleaned.csv\""
   ]
  },
  {
   "cell_type": "code",
   "execution_count": 4,
   "metadata": {},
   "outputs": [
    {
     "name": "stdout",
     "output_type": "stream",
     "text": [
      "capital-common-countries\n",
      "capital-world\n",
      "currency\n",
      "city-in-state\n",
      "family\n",
      "gram1-adjective-to-adverb\n",
      "gram2-opposite\n",
      "gram3-comparative\n",
      "gram4-superlative\n",
      "gram5-present-participle\n",
      "gram6-nationality-adjective\n",
      "gram7-past-tense\n",
      "gram8-plural\n",
      "gram9-plural-verbs\n",
      "        word1   word2    word3        word4                  category\n",
      "19543  Athens  Greece  Baghdad         Iraq  capital-common-countries\n",
      "19542  Athens  Greece  Bangkok     Thailand  capital-common-countries\n",
      "19541  Athens  Greece  Beijing        China  capital-common-countries\n",
      "19540  Athens  Greece   Berlin      Germany  capital-common-countries\n",
      "19539  Athens  Greece     Bern  Switzerland  capital-common-countries\n"
     ]
    }
   ],
   "source": [
    "df = pd.DataFrame(columns=['word1', 'word2', 'word3', 'word4', 'category'])\n",
    "category = \"\"\n",
    "with open(raw_data) as questions_file:\n",
    "    \n",
    "    for line in questions_file:\n",
    "        if line[0] == ':':\n",
    "            category = line[2:].strip()\n",
    "            print(f\"{category}\")\n",
    "            continue\n",
    "        else:\n",
    "            words = line.split()\n",
    "            row = [*words, category]\n",
    "            # print(row)\n",
    "            df.loc[-1] = row\n",
    "            df.index += 1\n",
    "print(df.head())\n",
    "df.to_csv(cleaned_data, index=False)"
   ]
  },
  {
   "cell_type": "code",
   "execution_count": null,
   "metadata": {},
   "outputs": [],
   "source": []
  }
 ],
 "metadata": {
  "kernelspec": {
   "display_name": "jupyter-cuda4",
   "language": "python",
   "name": "python3"
  },
  "language_info": {
   "codemirror_mode": {
    "name": "ipython",
    "version": 3
   },
   "file_extension": ".py",
   "mimetype": "text/x-python",
   "name": "python",
   "nbconvert_exporter": "python",
   "pygments_lexer": "ipython3",
   "version": "3.10.11"
  }
 },
 "nbformat": 4,
 "nbformat_minor": 2
}
