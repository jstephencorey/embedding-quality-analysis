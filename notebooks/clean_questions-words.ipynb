{
 "cells": [
  {
   "cell_type": "code",
   "execution_count": 1,
   "metadata": {},
   "outputs": [],
   "source": [
    "import numpy as np\n",
    "import pandas as pd"
   ]
  },
  {
   "cell_type": "code",
   "execution_count": 2,
   "metadata": {},
   "outputs": [],
   "source": [
    "raw_data = \"../data/questions-words.txt\""
   ]
  },
  {
   "cell_type": "code",
   "execution_count": 19,
   "metadata": {},
   "outputs": [
    {
     "name": "stdout",
     "output_type": "stream",
     "text": [
      "capital-common-countries\n",
      "capital-world\n",
      "currency\n",
      "city-in-state\n",
      "family\n",
      "gram1-adjective-to-adverb\n",
      "gram2-opposite\n",
      "gram3-comparative\n"
     ]
    }
   ],
   "source": [
    "df = pd.DataFrame(columns=['word1', 'word2', 'word3', 'word4', 'category'])\n",
    "category = \"\"\n",
    "with open(raw_data) as questions_file:\n",
    "    \n",
    "    for line in questions_file:\n",
    "        if line[0] == ':':\n",
    "            category = line[2:].strip()\n",
    "            print(f\"{category}\")\n",
    "            continue\n",
    "        else:\n",
    "            words = line.split()\n",
    "            row = [*words, category]\n",
    "            # print(row)\n",
    "            df.loc[-1] = row\n",
    "            df.index += 1\n",
    "print(df.head())\n",
    "df.to_csv(\"../data/words_cleaned.csv\")"
   ]
  }
 ],
 "metadata": {
  "kernelspec": {
   "display_name": "jupyter-cuda4",
   "language": "python",
   "name": "python3"
  },
  "language_info": {
   "codemirror_mode": {
    "name": "ipython",
    "version": 3
   },
   "file_extension": ".py",
   "mimetype": "text/x-python",
   "name": "python",
   "nbconvert_exporter": "python",
   "pygments_lexer": "ipython3",
   "version": "3.10.11"
  }
 },
 "nbformat": 4,
 "nbformat_minor": 2
}
