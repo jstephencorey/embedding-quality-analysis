{
 "cells": [
  {
   "cell_type": "code",
   "execution_count": 6,
   "metadata": {},
   "outputs": [],
   "source": [
    "import numpy as np\n",
    "import pandas as pd"
   ]
  },
  {
   "cell_type": "code",
   "execution_count": 7,
   "metadata": {},
   "outputs": [],
   "source": [
    "raw_data = \"../data/questions-words.txt\"\n",
    "cleaned_data = \"../data/words_cleaned.csv\""
   ]
  },
  {
   "cell_type": "code",
   "execution_count": 4,
   "metadata": {},
   "outputs": [
    {
     "name": "stdout",
     "output_type": "stream",
     "text": [
      "capital-common-countries\n",
      "capital-world\n",
      "currency\n",
      "city-in-state\n",
      "family\n",
      "gram1-adjective-to-adverb\n",
      "gram2-opposite\n",
      "gram3-comparative\n",
      "gram4-superlative\n",
      "gram5-present-participle\n",
      "gram6-nationality-adjective\n",
      "gram7-past-tense\n",
      "gram8-plural\n",
      "gram9-plural-verbs\n",
      "        word1   word2    word3        word4                  category\n",
      "19543  Athens  Greece  Baghdad         Iraq  capital-common-countries\n",
      "19542  Athens  Greece  Bangkok     Thailand  capital-common-countries\n",
      "19541  Athens  Greece  Beijing        China  capital-common-countries\n",
      "19540  Athens  Greece   Berlin      Germany  capital-common-countries\n",
      "19539  Athens  Greece     Bern  Switzerland  capital-common-countries\n"
     ]
    }
   ],
   "source": [
    "df = pd.DataFrame(columns=['word1', 'word2', 'word3', 'word4', 'category'])\n",
    "category = \"\"\n",
    "with open(raw_data) as questions_file:\n",
    "    \n",
    "    for line in questions_file:\n",
    "        if line[0] == ':':\n",
    "            category = line[2:].strip()\n",
    "            print(f\"{category}\")\n",
    "            continue\n",
    "        else:\n",
    "            words = line.split()\n",
    "            row = [*words, category]\n",
    "            # print(row)\n",
    "            df.loc[-1] = row\n",
    "            df.index += 1\n",
    "print(df.head())\n",
    "df.to_csv(cleaned_data, index=False)"
   ]
  },
  {
   "cell_type": "code",
   "execution_count": 9,
   "metadata": {},
   "outputs": [
    {
     "data": {
      "text/html": [
       "<div>\n",
       "<style scoped>\n",
       "    .dataframe tbody tr th:only-of-type {\n",
       "        vertical-align: middle;\n",
       "    }\n",
       "\n",
       "    .dataframe tbody tr th {\n",
       "        vertical-align: top;\n",
       "    }\n",
       "\n",
       "    .dataframe thead th {\n",
       "        text-align: right;\n",
       "    }\n",
       "</style>\n",
       "<table border=\"1\" class=\"dataframe\">\n",
       "  <thead>\n",
       "    <tr style=\"text-align: right;\">\n",
       "      <th></th>\n",
       "      <th>word1</th>\n",
       "      <th>word2</th>\n",
       "      <th>word3</th>\n",
       "      <th>word4</th>\n",
       "      <th>category</th>\n",
       "    </tr>\n",
       "  </thead>\n",
       "  <tbody>\n",
       "    <tr>\n",
       "      <th>0</th>\n",
       "      <td>Athens</td>\n",
       "      <td>Greece</td>\n",
       "      <td>Baghdad</td>\n",
       "      <td>Iraq</td>\n",
       "      <td>capital-common-countries</td>\n",
       "    </tr>\n",
       "    <tr>\n",
       "      <th>1</th>\n",
       "      <td>Athens</td>\n",
       "      <td>Greece</td>\n",
       "      <td>Bangkok</td>\n",
       "      <td>Thailand</td>\n",
       "      <td>capital-common-countries</td>\n",
       "    </tr>\n",
       "    <tr>\n",
       "      <th>2</th>\n",
       "      <td>Athens</td>\n",
       "      <td>Greece</td>\n",
       "      <td>Beijing</td>\n",
       "      <td>China</td>\n",
       "      <td>capital-common-countries</td>\n",
       "    </tr>\n",
       "    <tr>\n",
       "      <th>3</th>\n",
       "      <td>Athens</td>\n",
       "      <td>Greece</td>\n",
       "      <td>Berlin</td>\n",
       "      <td>Germany</td>\n",
       "      <td>capital-common-countries</td>\n",
       "    </tr>\n",
       "    <tr>\n",
       "      <th>4</th>\n",
       "      <td>Athens</td>\n",
       "      <td>Greece</td>\n",
       "      <td>Bern</td>\n",
       "      <td>Switzerland</td>\n",
       "      <td>capital-common-countries</td>\n",
       "    </tr>\n",
       "  </tbody>\n",
       "</table>\n",
       "</div>"
      ],
      "text/plain": [
       "    word1   word2    word3        word4                  category\n",
       "0  Athens  Greece  Baghdad         Iraq  capital-common-countries\n",
       "1  Athens  Greece  Bangkok     Thailand  capital-common-countries\n",
       "2  Athens  Greece  Beijing        China  capital-common-countries\n",
       "3  Athens  Greece   Berlin      Germany  capital-common-countries\n",
       "4  Athens  Greece     Bern  Switzerland  capital-common-countries"
      ]
     },
     "execution_count": 9,
     "metadata": {},
     "output_type": "execute_result"
    }
   ],
   "source": [
    "df = pd.read_csv(cleaned_data)\n",
    "df.head()"
   ]
  },
  {
   "cell_type": "code",
   "execution_count": 14,
   "metadata": {},
   "outputs": [
    {
     "name": "stdout",
     "output_type": "stream",
     "text": [
      "474\n",
      "905\n",
      "905\n",
      "905\n"
     ]
    }
   ],
   "source": [
    "columns = ['word1', 'word2', 'word3', 'word4']\n",
    "unique_words = set()\n",
    "for column in columns:\n",
    "    uniques = df[column].unique()\n",
    "    for word in uniques:\n",
    "        set.add(unique_words, word)\n",
    "    print(len(unique_words))"
   ]
  },
  {
   "cell_type": "code",
   "execution_count": 16,
   "metadata": {},
   "outputs": [],
   "source": [
    "def save_unique_words_to_csv(unique_words, output_path):\n",
    "    # Create a DataFrame with the unique words\n",
    "    df = pd.DataFrame({'words': unique_words})\n",
    "    \n",
    "    # Write the DataFrame to a CSV file\n",
    "    df.to_csv(output_path, index=False)\n",
    "\n",
    "# Output path for the CSV file\n",
    "output_path = \"../data/unique_words.csv\"\n",
    "\n",
    "# Call the function to save the unique words to a CSV file\n",
    "save_unique_words_to_csv(list(unique_words), output_path)"
   ]
  },
  {
   "cell_type": "code",
   "execution_count": null,
   "metadata": {},
   "outputs": [],
   "source": []
  }
 ],
 "metadata": {
  "kernelspec": {
   "display_name": "jupyter-cuda4",
   "language": "python",
   "name": "python3"
  },
  "language_info": {
   "codemirror_mode": {
    "name": "ipython",
    "version": 3
   },
   "file_extension": ".py",
   "mimetype": "text/x-python",
   "name": "python",
   "nbconvert_exporter": "python",
   "pygments_lexer": "ipython3",
   "version": "3.10.11"
  }
 },
 "nbformat": 4,
 "nbformat_minor": 2
}
